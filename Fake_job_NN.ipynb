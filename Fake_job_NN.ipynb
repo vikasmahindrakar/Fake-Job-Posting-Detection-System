{
 "cells": [
  {
   "cell_type": "code",
   "execution_count": 1,
   "id": "2b50a6f5",
   "metadata": {},
   "outputs": [
    {
     "name": "stderr",
     "output_type": "stream",
     "text": [
      "C:\\Users\\nehaw\\anaconda3\\lib\\site-packages\\scipy\\__init__.py:146: UserWarning: A NumPy version >=1.16.5 and <1.23.0 is required for this version of SciPy (detected version 1.26.4\n",
      "  warnings.warn(f\"A NumPy version >={np_minversion} and <{np_maxversion}\"\n"
     ]
    }
   ],
   "source": [
    "import numpy as np\n",
    "import pandas as pd\n",
    "import matplotlib.pyplot as plt\n",
    "import os\n",
    "import sys\n",
    "import tensorflow as tf\n",
    "import keras.models\n",
    "#from keras.models import Sequential\n",
    "from keras.layers import Conv2D , MaxPool2D ,Flatten , Dense, Dropout\n",
    "#from keras.utils import to_categorical\n",
    "from tensorflow.keras.utils import to_categorical\n",
    "from PIL import Image\n",
    "from keras.models import Model, Sequential\n",
    "from keras.layers import GlobalAveragePooling2D , BatchNormalization;\n",
    "#from models import custom_convnet\n",
    "from keras.layers import Embedding\n",
    "from tensorflow.keras.layers import LSTM\n",
    "from sklearn.metrics import confusion_matrix,accuracy_score\n",
    "from sklearn.metrics import classification_report"
   ]
  },
  {
   "cell_type": "code",
   "execution_count": null,
   "id": "99ad2201",
   "metadata": {},
   "outputs": [],
   "source": [
    "job=pd.read_csv(r\"C:\\Users\\vikas\\Desktop\\csv_files\\fake_job_postings.csv\", encoding='latin1')"
   ]
  },
  {
   "cell_type": "code",
   "execution_count": 3,
   "id": "f8db94d5",
   "metadata": {},
   "outputs": [],
   "source": [
    "# df2=job[job['benefits'].isna()]"
   ]
  },
  {
   "cell_type": "code",
   "execution_count": 4,
   "id": "2847f823",
   "metadata": {},
   "outputs": [
    {
     "data": {
      "text/plain": [
       "0    6846\n",
       "1     364\n",
       "Name: fraudulent, dtype: int64"
      ]
     },
     "execution_count": 4,
     "metadata": {},
     "output_type": "execute_result"
    }
   ],
   "source": [
    "# df2.fraudulent.value_counts()"
   ]
  },
  {
   "cell_type": "code",
   "execution_count": 31,
   "id": "d211c52b",
   "metadata": {},
   "outputs": [
    {
     "data": {
      "text/plain": [
       "GB, LND, London          718\n",
       "US, NY, New York         658\n",
       "US, CA, San Francisco    472\n",
       "GR, I, Athens            464\n",
       "US, ,                    339\n",
       "                        ... \n",
       "GB, SFK, Leiston           1\n",
       "GB, LND, Hammersmith       1\n",
       "US, WA, Seattle            1\n",
       "BE                         1\n",
       "GB, WSX, Chichester        1\n",
       "Name: location, Length: 3105, dtype: int64"
      ]
     },
     "execution_count": 31,
     "metadata": {},
     "output_type": "execute_result"
    }
   ],
   "source": [
    "job.location.value_counts()"
   ]
  },
  {
   "cell_type": "code",
   "execution_count": 5,
   "id": "a6dc0d55",
   "metadata": {},
   "outputs": [],
   "source": [
    "job['x'] = job['salary_range'].apply(str)+' '+job['company_profile'].apply(str)+' '+job['has_company_logo'].apply(str)+' '+job['location'].apply(str)+' '+job['benefits'].apply(str)"
   ]
  },
  {
   "cell_type": "code",
   "execution_count": 6,
   "id": "a6456bab",
   "metadata": {},
   "outputs": [],
   "source": [
    "job = job.loc[: , ['x','fraudulent']]"
   ]
  },
  {
   "cell_type": "code",
   "execution_count": 9,
   "id": "138988e8",
   "metadata": {},
   "outputs": [],
   "source": [
    "train,test = train_test_split(job)"
   ]
  },
  {
   "cell_type": "code",
   "execution_count": 10,
   "id": "40ac7cb3",
   "metadata": {},
   "outputs": [],
   "source": [
    "df_temp = train[train.fraudulent==1]\n",
    "train = pd.concat([train,df_temp,df_temp,df_temp])"
   ]
  },
  {
   "cell_type": "code",
   "execution_count": 11,
   "id": "84f77e05",
   "metadata": {},
   "outputs": [],
   "source": [
    "x_train=train.x\n",
    "y_train = train.loc[:,['fraudulent']]\n",
    "\n",
    "x_test=test.x\n",
    "y_test = test.loc[:,['fraudulent']]"
   ]
  },
  {
   "cell_type": "code",
   "execution_count": 8,
   "id": "84cf558a",
   "metadata": {},
   "outputs": [],
   "source": [
    "from sklearn.model_selection import train_test_split\n",
    "# x_train , x_test , y_train, y_test = train_test_split(job['x'] , job['fraudulent'] , test_size = .2)"
   ]
  },
  {
   "cell_type": "code",
   "execution_count": 266,
   "id": "28dd5329",
   "metadata": {},
   "outputs": [],
   "source": [
    "# # Assuming data is your dataset\n",
    "# from sklearn.model_selection import train_test_split\n",
    "\n",
    "# # Adjust validation_split as needed\n",
    "# X_train, X_val, y_train, y_val = train_test_split(data, labels, test_size=0.2, random_state=42, shuffle=True)\n"
   ]
  },
  {
   "cell_type": "code",
   "execution_count": 12,
   "id": "060de2f4",
   "metadata": {},
   "outputs": [],
   "source": [
    "y_train = to_categorical(y_train)\n",
    "#y_test = to_categorical(y_test)"
   ]
  },
  {
   "cell_type": "code",
   "execution_count": 13,
   "id": "6cd55598",
   "metadata": {},
   "outputs": [],
   "source": [
    "max_num_words=10000             ## from the entire corpus select 10000 words\n",
    "seq_len=50                      ## how many words out of 10000 you wish to take from 1 doc\n",
    "embedding_size=100"
   ]
  },
  {
   "cell_type": "code",
   "execution_count": 15,
   "id": "d2842b10",
   "metadata": {},
   "outputs": [],
   "source": [
    "import tensorflow as tf\n",
    "from tensorflow.keras.preprocessing.text import Tokenizer\n",
    "from tensorflow.keras.preprocessing.sequence import pad_sequences\n"
   ]
  },
  {
   "cell_type": "code",
   "execution_count": 16,
   "id": "d0e80d5e",
   "metadata": {},
   "outputs": [],
   "source": [
    "tokenizer = Tokenizer(num_words = max_num_words)\n",
    "tokenizer.fit_on_texts(job.x)\n",
    "x_train = tokenizer.texts_to_sequences(x_train)\n",
    "\n",
    "x_test = tokenizer.texts_to_sequences(x_test)"
   ]
  },
  {
   "cell_type": "code",
   "execution_count": 17,
   "id": "b71e1350",
   "metadata": {},
   "outputs": [],
   "source": [
    "x_train = pad_sequences(x_train , maxlen = seq_len)\n",
    "\n",
    "x_test = pad_sequences(x_test , maxlen = seq_len)"
   ]
  },
  {
   "cell_type": "code",
   "execution_count": 18,
   "id": "7f8f19b0",
   "metadata": {},
   "outputs": [
    {
     "data": {
      "text/plain": [
       "(4470, 50)"
      ]
     },
     "execution_count": 18,
     "metadata": {},
     "output_type": "execute_result"
    }
   ],
   "source": [
    "x_test.shape"
   ]
  },
  {
   "cell_type": "code",
   "execution_count": 19,
   "id": "0ffdb544",
   "metadata": {},
   "outputs": [
    {
     "name": "stderr",
     "output_type": "stream",
     "text": [
      "C:\\Users\\nehaw\\anaconda3\\lib\\site-packages\\keras\\src\\layers\\core\\embedding.py:90: UserWarning: Argument `input_length` is deprecated. Just remove it.\n",
      "  warnings.warn(\n"
     ]
    }
   ],
   "source": [
    "model = Sequential()\n",
    "model.add(Embedding(input_dim = max_num_words,\n",
    "                   input_length = seq_len,\n",
    "                   output_dim = embedding_size))"
   ]
  },
  {
   "cell_type": "code",
   "execution_count": 20,
   "id": "aeceb3fd",
   "metadata": {},
   "outputs": [],
   "source": [
    "from tensorflow.keras.layers import Embedding\n",
    "from tensorflow.keras.layers import LSTM\n",
    "from tensorflow.keras.optimizers import Adam\n",
    "from keras.layers import Bidirectional"
   ]
  },
  {
   "cell_type": "code",
   "execution_count": 21,
   "id": "a1b66483",
   "metadata": {},
   "outputs": [],
   "source": [
    "model.add(Bidirectional(LSTM(64)))\n",
    "model.add(Dense(2, activation = 'softmax'))  #o/p layer\n",
    "adam = Adam(learning_rate = 0.001)\n",
    "model.compile(optimizer = 'adam', loss = 'categorical_crossentropy' , metrics = ['accuracy'])"
   ]
  },
  {
   "cell_type": "code",
   "execution_count": 22,
   "id": "1113e479",
   "metadata": {},
   "outputs": [
    {
     "name": "stdout",
     "output_type": "stream",
     "text": [
      "Epoch 1/5\n",
      "\u001b[1m481/481\u001b[0m \u001b[32m━━━━━━━━━━━━━━━━━━━━\u001b[0m\u001b[37m\u001b[0m \u001b[1m42s\u001b[0m 67ms/step - accuracy: 0.8864 - loss: 0.2735\n",
      "Epoch 2/5\n",
      "\u001b[1m481/481\u001b[0m \u001b[32m━━━━━━━━━━━━━━━━━━━━\u001b[0m\u001b[37m\u001b[0m \u001b[1m32s\u001b[0m 67ms/step - accuracy: 0.9684 - loss: 0.0671\n",
      "Epoch 3/5\n",
      "\u001b[1m481/481\u001b[0m \u001b[32m━━━━━━━━━━━━━━━━━━━━\u001b[0m\u001b[37m\u001b[0m \u001b[1m30s\u001b[0m 62ms/step - accuracy: 0.9778 - loss: 0.0521\n",
      "Epoch 4/5\n",
      "\u001b[1m481/481\u001b[0m \u001b[32m━━━━━━━━━━━━━━━━━━━━\u001b[0m\u001b[37m\u001b[0m \u001b[1m41s\u001b[0m 62ms/step - accuracy: 0.9810 - loss: 0.0438\n",
      "Epoch 5/5\n",
      "\u001b[1m481/481\u001b[0m \u001b[32m━━━━━━━━━━━━━━━━━━━━\u001b[0m\u001b[37m\u001b[0m \u001b[1m30s\u001b[0m 63ms/step - accuracy: 0.9816 - loss: 0.0422\n"
     ]
    },
    {
     "data": {
      "text/plain": [
       "<keras.src.callbacks.history.History at 0x2593c3a5160>"
      ]
     },
     "execution_count": 22,
     "metadata": {},
     "output_type": "execute_result"
    }
   ],
   "source": [
    "model.fit(x_train,y_train,batch_size=32,epochs =5)"
   ]
  },
  {
   "cell_type": "code",
   "execution_count": 23,
   "id": "75200e94",
   "metadata": {},
   "outputs": [
    {
     "name": "stdout",
     "output_type": "stream",
     "text": [
      "\u001b[1m140/140\u001b[0m \u001b[32m━━━━━━━━━━━━━━━━━━━━\u001b[0m\u001b[37m\u001b[0m \u001b[1m4s\u001b[0m 24ms/step\n"
     ]
    },
    {
     "data": {
      "text/plain": [
       "array([[9.9999511e-01, 4.8599063e-06],\n",
       "       [9.9953640e-01, 4.6365321e-04],\n",
       "       [9.9993074e-01, 6.9311929e-05],\n",
       "       ...,\n",
       "       [9.9993610e-01, 6.3870233e-05],\n",
       "       [9.9952936e-01, 4.7071362e-04],\n",
       "       [9.9987900e-01, 1.2093656e-04]], dtype=float32)"
      ]
     },
     "execution_count": 23,
     "metadata": {},
     "output_type": "execute_result"
    }
   ],
   "source": [
    "pred = model.predict(x_test)\n",
    "pred"
   ]
  },
  {
   "cell_type": "code",
   "execution_count": 24,
   "id": "ae6bfed4",
   "metadata": {},
   "outputs": [],
   "source": [
    "pred_classes= pred.argmax(axis = 1)\n",
    "#y_test= y_test.argmax(axis = 1)"
   ]
  },
  {
   "cell_type": "code",
   "execution_count": 25,
   "id": "e23e4660",
   "metadata": {},
   "outputs": [
    {
     "data": {
      "text/plain": [
       "array([[4151,  104],\n",
       "       [  74,  141]], dtype=int64)"
      ]
     },
     "execution_count": 25,
     "metadata": {},
     "output_type": "execute_result"
    }
   ],
   "source": [
    "tab = confusion_matrix(y_test , pred_classes)\n",
    "tab"
   ]
  },
  {
   "cell_type": "code",
   "execution_count": 26,
   "id": "6af87a58",
   "metadata": {},
   "outputs": [],
   "source": [
    "from sklearn.metrics import confusion_matrix,accuracy_score\n"
   ]
  },
  {
   "cell_type": "code",
   "execution_count": 27,
   "id": "77c95d78",
   "metadata": {},
   "outputs": [
    {
     "data": {
      "text/plain": [
       "96.01789709172259"
      ]
     },
     "execution_count": 27,
     "metadata": {},
     "output_type": "execute_result"
    }
   ],
   "source": [
    "accuracy_score(y_test , pred_classes)*100"
   ]
  },
  {
   "cell_type": "code",
   "execution_count": 28,
   "id": "ed48e8f0",
   "metadata": {},
   "outputs": [
    {
     "name": "stdout",
     "output_type": "stream",
     "text": [
      "              precision    recall  f1-score   support\n",
      "\n",
      "           0       0.98      0.98      0.98      4255\n",
      "           1       0.58      0.66      0.61       215\n",
      "\n",
      "    accuracy                           0.96      4470\n",
      "   macro avg       0.78      0.82      0.80      4470\n",
      "weighted avg       0.96      0.96      0.96      4470\n",
      "\n"
     ]
    }
   ],
   "source": [
    "print(classification_report(y_test,pred_classes))"
   ]
  },
  {
   "cell_type": "code",
   "execution_count": 283,
   "id": "74405a70",
   "metadata": {},
   "outputs": [
    {
     "name": "stderr",
     "output_type": "stream",
     "text": [
      "C:\\ProgramData\\anaconda3\\Lib\\site-packages\\keras\\src\\engine\\training.py:3103: UserWarning: You are saving your model as an HDF5 file via `model.save()`. This file format is considered legacy. We recommend using instead the native Keras format, e.g. `model.save('my_model.keras')`.\n",
      "  saving_api.save_model(\n"
     ]
    }
   ],
   "source": [
    "model.save('fake_job_LSTM.h5')"
   ]
  },
  {
   "cell_type": "code",
   "execution_count": null,
   "id": "319dfe53",
   "metadata": {},
   "outputs": [],
   "source": []
  },
  {
   "cell_type": "code",
   "execution_count": null,
   "id": "1da1fb5a",
   "metadata": {},
   "outputs": [],
   "source": []
  },
  {
   "cell_type": "code",
   "execution_count": null,
   "id": "aa6e4695",
   "metadata": {},
   "outputs": [],
   "source": []
  },
  {
   "cell_type": "code",
   "execution_count": null,
   "id": "fc3fc1c2",
   "metadata": {},
   "outputs": [],
   "source": []
  },
  {
   "cell_type": "code",
   "execution_count": null,
   "id": "d16f4f23",
   "metadata": {},
   "outputs": [],
   "source": []
  },
  {
   "cell_type": "code",
   "execution_count": null,
   "id": "d8fc5058",
   "metadata": {},
   "outputs": [],
   "source": []
  },
  {
   "cell_type": "code",
   "execution_count": null,
   "id": "44dad8c1",
   "metadata": {},
   "outputs": [],
   "source": []
  },
  {
   "cell_type": "code",
   "execution_count": null,
   "id": "63374c64",
   "metadata": {},
   "outputs": [],
   "source": []
  },
  {
   "cell_type": "code",
   "execution_count": null,
   "id": "e8c948f9",
   "metadata": {},
   "outputs": [],
   "source": []
  },
  {
   "cell_type": "code",
   "execution_count": null,
   "id": "4f5e69b2",
   "metadata": {},
   "outputs": [],
   "source": []
  },
  {
   "cell_type": "code",
   "execution_count": null,
   "id": "c95adc2f",
   "metadata": {},
   "outputs": [],
   "source": []
  },
  {
   "cell_type": "code",
   "execution_count": null,
   "id": "3b5e3c66",
   "metadata": {},
   "outputs": [],
   "source": []
  },
  {
   "cell_type": "code",
   "execution_count": null,
   "id": "6d39fb7f",
   "metadata": {},
   "outputs": [],
   "source": []
  }
 ],
 "metadata": {
  "kernelspec": {
   "display_name": "Python 3 (ipykernel)",
   "language": "python",
   "name": "python3"
  },
  "language_info": {
   "codemirror_mode": {
    "name": "ipython",
    "version": 3
   },
   "file_extension": ".py",
   "mimetype": "text/x-python",
   "name": "python",
   "nbconvert_exporter": "python",
   "pygments_lexer": "ipython3",
   "version": "3.9.12"
  }
 },
 "nbformat": 4,
 "nbformat_minor": 5
}
